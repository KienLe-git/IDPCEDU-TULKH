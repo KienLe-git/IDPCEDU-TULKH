{
 "cells": [
  {
   "cell_type": "code",
   "execution_count": 1,
   "metadata": {},
   "outputs": [],
   "source": [
    "from MFEA_lib.tasks.Benchmark.IDPC_EDU import IDPC_EDU_benchmark\n",
    "from MFEA_lib.model import MFEA_base\n",
    "from MFEA_lib.model.utils import *\n",
    "from MFEA_lib.operators.Crossover import *\n",
    "from MFEA_lib.operators.Mutation import *\n",
    "from MFEA_lib.operators.Selection import *"
   ]
  },
  {
   "cell_type": "code",
   "execution_count": 11,
   "metadata": {},
   "outputs": [
    {
     "name": "stdout",
     "output_type": "stream",
     "text": [
      "Reading data...\n"
     ]
    },
    {
     "name": "stderr",
     "output_type": "stream",
     "text": [
      "100%|██████████| 5/5 [00:00<00:00, 21.85it/s]"
     ]
    },
    {
     "name": "stdout",
     "output_type": "stream",
     "text": [
      "num tasks:  5\n",
      "Time: 00m 0.02s    0 % [>                   ]  Cost: 1.40E+01  1.30E+01  1.40E+01  1.60E+01  1.60E+01  ,  "
     ]
    },
    {
     "name": "stderr",
     "output_type": "stream",
     "text": [
      "\n"
     ]
    },
    {
     "name": "stdout",
     "output_type": "stream",
     "text": [
      "Time: 00m 26.80s  100 % [====================>]  Cost: 1.30E+01  1.20E+01  1.30E+01  1.60E+01  1.60E+01  ,  \n",
      "END!\n",
      "Time: 00m 29.01s  100 % [====================>]  Cost: 1.30E+01  1.20E+01  1.30E+01  1.60E+01  1.60E+01  ,  \n",
      "END!\n",
      "Time: 00m 28.30s  100 % [====================>]  Cost: 1.30E+01  1.20E+01  1.30E+01  1.60E+01  1.60E+01  ,  \n",
      "END!\n",
      "Time: 00m 27.39s  100 % [====================>]  Cost: 1.30E+01  1.20E+01  1.40E+01  1.60E+01  1.60E+01  ,  \n",
      "END!\n",
      "Time: 00m 29.57s  100 % [====================>]  Cost: 1.30E+01  1.20E+01  1.30E+01  1.60E+01  1.60E+01  ,  \n",
      "END!\n",
      "Time: 00m 27.57s  100 % [====================>]  Cost: 1.30E+01  1.20E+01  1.30E+01  1.60E+01  1.60E+01  ,  \n",
      "END!\n",
      "Time: 00m 29.63s  100 % [====================>]  Cost: 1.30E+01  1.20E+01  1.30E+01  1.60E+01  1.60E+01  ,  \n",
      "END!\n",
      "Time: 00m 30.66s  100 % [====================>]  Cost: 1.30E+01  1.20E+01  1.30E+01  1.60E+01  1.60E+01  ,  \n",
      "END!\n",
      "Time: 00m 27.49s  100 % [====================>]  Cost: 1.30E+01  1.20E+01  1.30E+01  1.60E+01  1.60E+01  ,  \n",
      "END!\n",
      "Time: 00m 30.41s  100 % [====================>]  Cost: 1.30E+01  1.20E+01  1.30E+01  1.60E+01  1.60E+01  ,  \n",
      "END!\n",
      "DONE!\n",
      "Saved\n"
     ]
    }
   ],
   "source": [
    "tasks, IndClass = IDPC_EDU_benchmark.get_tasks(3)\n",
    "print('num tasks: ', len(tasks))\n",
    "\n",
    "baseModel = MultiTimeModel(model = MFEA_base)\n",
    "baseModel.compile(\n",
    "    IndClass= IndClass,\n",
    "    tasks= tasks,\n",
    "    crossover= IDPCEDU_Crossover(),\n",
    "    mutation= IDPCEDU_Mutation(),\n",
    "    selection= ElitismSelection()\n",
    ")\n",
    "solve = baseModel.fit(\n",
    "    nb_generations = 2500, rmp = 0.3, nb_inds_each_task= 20, \n",
    "    bound_pop= [0, 1], evaluate_initial_skillFactor= True\n",
    ")\n",
    "baseModel.run(nb_run= 10, save_path= './')\n",
    "# baseModel.render_history()"
   ]
  },
  {
   "cell_type": "code",
   "execution_count": 16,
   "metadata": {},
   "outputs": [
    {
     "data": {
      "text/plain": [
       "array([13. , 12. , 13.1, 16. , 16. ])"
      ]
     },
     "execution_count": 16,
     "metadata": {},
     "output_type": "execute_result"
    }
   ],
   "source": [
    "baseModel.history_cost[-1]"
   ]
  },
  {
   "cell_type": "code",
   "execution_count": 17,
   "metadata": {},
   "outputs": [
    {
     "data": {
      "text/plain": [
       "5.736301097869873"
      ]
     },
     "execution_count": 17,
     "metadata": {},
     "output_type": "execute_result"
    }
   ],
   "source": [
    "baseModel.total_time / 10 / 5"
   ]
  }
 ],
 "metadata": {
  "interpreter": {
   "hash": "826c05e39ad55a127882f31c45bbf0c2eabf66f5805bd8b6456f3792b5d7da8a"
  },
  "kernelspec": {
   "display_name": "Python 3.7.13 ('env')",
   "language": "python",
   "name": "python3"
  },
  "language_info": {
   "codemirror_mode": {
    "name": "ipython",
    "version": 3
   },
   "file_extension": ".py",
   "mimetype": "text/x-python",
   "name": "python",
   "nbconvert_exporter": "python",
   "pygments_lexer": "ipython3",
   "version": "3.7.13"
  },
  "orig_nbformat": 4
 },
 "nbformat": 4,
 "nbformat_minor": 2
}
