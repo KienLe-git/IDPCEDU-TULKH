{
 "cells": [
  {
   "cell_type": "code",
   "execution_count": null,
   "metadata": {},
   "outputs": [],
   "source": [
    "class Entity():\n",
    "    def __init__(self):\n",
    "        self.adj_vertices = []\n"
   ]
  },
  {
   "cell_type": "code",
   "execution_count": null,
   "metadata": {},
   "outputs": [],
   "source": [
    "def convert_string_int(s):\n",
    "    rs = s.split(\" \")\n",
    "    rs = [int(x) for x in rs]\n",
    "    return rs\n",
    "\n",
    "V = []\n",
    "w_min = 1e9\n",
    "with open(file='D:\\PythonProject\\IDPCEDU-TULKH\\MFEA_lib/tasks\\Benchmark\\__references__\\IDPC_DU\\IDPC_EDU\\data\\set1\\idpc_30x30x27000.idpc') as f:\n",
    "    line1 = f.readline()\n",
    "    numVertex, numDomain = convert_string_int(line1)\n",
    "    line2 = f.readline()\n",
    "    s, t = convert_string_int(line2)\n",
    "    for i in range(0, numVertex+1):\n",
    "        tempVertex = Entity()\n",
    "        V.append(tempVertex)\n",
    "    for row in f:\n",
    "        line = convert_string_int(row)\n",
    "        u,v,w,d = line\n",
    "        V[u].adj_vertices.append((v, w, d))\n",
    "        w_min = min(w_min, w)"
   ]
  },
  {
   "cell_type": "code",
   "execution_count": null,
   "metadata": {},
   "outputs": [],
   "source": [
    "print(s,t, w_min)\n",
    "# for i in range(1, numVertex+1):\n",
    "#     print(V[i].adj_vertices)"
   ]
  },
  {
   "cell_type": "code",
   "execution_count": null,
   "metadata": {},
   "outputs": [],
   "source": [
    "V[4].adj_vertices[0]"
   ]
  },
  {
   "cell_type": "code",
   "execution_count": null,
   "metadata": {},
   "outputs": [],
   "source": [
    "mark = [0]*(numVertex+1)\n",
    "mark[s] = 1\n",
    "tong = 0\n",
    "opt_weight = 1e9\n",
    "res = []\n",
    "res.append(s)\n",
    "mark_domain = [0]*(numDomain+1)\n",
    "\n",
    "def getDomain(u,v):\n",
    "    for x in V[u].adj_vertices:\n",
    "        if x[0] == v:\n",
    "            return x[2]\n",
    "    return\n",
    "\n",
    "def getWeight(u, v):\n",
    "    for x in V[u].adj_vertices:\n",
    "        if x[0] == v:\n",
    "            return x[1]\n",
    "    return\n",
    "\n",
    "def TRY():\n",
    "    global tong \n",
    "    global opt_weight\n",
    "    global res\n",
    "    global mark\n",
    "    global mark_domain\n",
    "    u = res[-1]\n",
    "    for v in V[u].adj_vertices:\n",
    "        if mark[v[0]] == 1:\n",
    "            continue\n",
    "        domain = getDomain(u,v[0])\n",
    "        weight = getWeight(u,v[0])\n",
    "        if mark_domain[domain] == 1:\n",
    "            continue\n",
    "        res.append(v[0])\n",
    "        mark[v[0]] = 1\n",
    "        mark_domain[domain] = 1\n",
    "        tong += weight\n",
    "\n",
    "        if v[0] == t:\n",
    "            if opt_weight > tong:\n",
    "                opt_weight = tong\n",
    "                print(res, opt_weight)\n",
    "        else:\n",
    "            #brach and cut\n",
    "            if (tong + w_min*(numVertex-len(res))) <= opt_weight:\n",
    "                TRY()\n",
    "        res.pop(-1) #recover when backtracking\n",
    "        mark[v[0]] = 0\n",
    "        mark_domain[domain] = 0\n",
    "        tong -= weight\n",
    "        "
   ]
  },
  {
   "cell_type": "code",
   "execution_count": null,
   "metadata": {},
   "outputs": [],
   "source": [
    "%%time\n",
    "TRY()"
   ]
  }
 ],
 "metadata": {
  "interpreter": {
   "hash": "cc3764f7b66cc1ef37e33c24108ce079452bfb68edcf0422afcb18b0fa55c55a"
  },
  "kernelspec": {
   "display_name": "Python 3.8.3 ('venv': venv)",
   "language": "python",
   "name": "python3"
  },
  "language_info": {
   "codemirror_mode": {
    "name": "ipython",
    "version": 3
   },
   "file_extension": ".py",
   "mimetype": "text/x-python",
   "name": "python",
   "nbconvert_exporter": "python",
   "pygments_lexer": "ipython3",
   "version": "3.8.3"
  },
  "orig_nbformat": 4
 },
 "nbformat": 4,
 "nbformat_minor": 2
}
