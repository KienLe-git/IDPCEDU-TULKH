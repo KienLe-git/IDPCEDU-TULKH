{
 "cells": [
  {
   "cell_type": "code",
   "execution_count": 12,
   "metadata": {},
   "outputs": [],
   "source": [
    "from ortools.sat.python import cp_model\n",
    "model = cp_model.CpModel()"
   ]
  },
  {
   "cell_type": "code",
   "execution_count": 13,
   "metadata": {},
   "outputs": [],
   "source": [
    "import numpy as np\n",
    "data = {}\n",
    "def convert_string_int(s):\n",
    "    rs = s.split(\" \")\n",
    "    rs = [int(x) for x in rs]\n",
    "    return rs\n",
    "\n",
    "def load_data(file_path):\n",
    "\n",
    "    with open(file=file_path) as f:\n",
    "        line1 = f.readline()\n",
    "        data['N'], data['D'] = convert_string_int(line1)\n",
    "        data['w'] = np.ones((data['N']+1,data['N']+1,data['D']+1))*99\n",
    "        line2 = f.readline()\n",
    "        data['s'], data['t'] = convert_string_int(line2)\n",
    "        lines = f.readlines()\n",
    "        for line in lines:\n",
    "            s,t,w,c = convert_string_int(line)\n",
    "            data['w'][s][t][c] = min(data['w'][s][t][c],w)\n",
    "    f.close()\n",
    "\n"
   ]
  },
  {
   "cell_type": "code",
   "execution_count": 14,
   "metadata": {},
   "outputs": [
    {
     "data": {
      "text/plain": [
       "array([[99., 99., 99., ..., 99., 99., 99.],\n",
       "       [99., 99., 99., ..., 99., 99., 99.],\n",
       "       [99., 99., 58., ..., 99., 99., 99.],\n",
       "       ...,\n",
       "       [99., 70., 99., ..., 99., 99., 99.],\n",
       "       [99., 99., 99., ..., 99., 82., 99.],\n",
       "       [99., 74., 84., ..., 93., 56., 99.]])"
      ]
     },
     "execution_count": 14,
     "metadata": {},
     "output_type": "execute_result"
    }
   ],
   "source": [
    "fpath =  'MFEA_lib/tasks/Benchmark/__references__/IDPC_DU/IDPC_EDU/data/set2/idpc_50x25x38961.idpc'\n",
    "load_data(fpath)\n",
    "data['w'][1]"
   ]
  },
  {
   "cell_type": "code",
   "execution_count": 15,
   "metadata": {},
   "outputs": [],
   "source": [
    "from tkinter import N\n",
    "\n",
    "\n",
    "x = {}\n",
    "n = data['N']\n",
    "d = data['D']\n",
    "for i in range(1, n + 1):\n",
    "    for j in range(1, n + 1):\n",
    "        for k in range(1,d+1):\n",
    "            x[str(i) + \",\" + str(j) + \",\" + str(k)] = model.NewIntVar(0, 1, \"x[\" + str(i) + \",\" + str(j)+ \",\" + str(k) + \"]\")\n",
    "\n",
    "t = {}\n",
    "for i in range(1,n+1):\n",
    "    for j in range(1,d+1):\n",
    "        t[str(i) + \",\" + str(j)] = model.NewIntVar(0, 1, \"t[\" + str(i) + \",\" + str(j) + \"]\")\n",
    "\n",
    "p = {}\n",
    "\n",
    "for i in range(1,d+1):\n",
    "    p[str(i)] = model.NewIntVar(0,d, \"p[\" + str(i) + \"]\")\n",
    "\n"
   ]
  },
  {
   "cell_type": "code",
   "execution_count": 16,
   "metadata": {},
   "outputs": [],
   "source": [
    "for i in range(1,n+1):\n",
    "    in_deg = x[str(1) + \",\" + str(i) + \",\" + str(1)]*1\n",
    "    out_deg = x[str(i) + \",\" + str(1) + \",\" + str(1)]*1\n",
    "    for j in range(1,n+1):\n",
    "        for k in range(1,d+1):\n",
    "            if j == 1 and k == 1: \n",
    "                continue\n",
    "            in_deg += x[str(j) + \",\" + str(i)+ \",\" + str(k)]\n",
    "            out_deg += x[str(i) + \",\" + str(j)+\",\" + str(k)]\n",
    "    if i == data['s']: \n",
    "        model.Add(in_deg == 0)\n",
    "        model.Add(out_deg == 1)\n",
    "    elif i == data['t']:\n",
    "        model.Add(in_deg == 1)\n",
    "        model.Add(out_deg == 0)\n",
    "    else:\n",
    "        model.Add(in_deg == out_deg)\n",
    "        model.Add(in_deg <=1)\n",
    "        model.Add(out_deg <= 1)\n",
    "\n",
    "    "
   ]
  },
  {
   "cell_type": "code",
   "execution_count": 17,
   "metadata": {},
   "outputs": [],
   "source": [
    "for k in range(1,d+1):\n",
    "    exp = x[str(1) + \",\"+str(1)+\",\"+str(k)]*1\n",
    "    for i in range(1,n+1):\n",
    "        for j in range(1,n+1):  \n",
    "            exp += x[str(1) + \",\"+str(1)+\",\"+str(k)]\n",
    "    model.Add(p[str(k)] == exp)\n",
    "\n",
    "for i in range(1,n+1):\n",
    "    for k in range(1,d+1):\n",
    "        exp = x[str(i) + \",\"+str(1)+\",\"+str(k)]*1\n",
    "        exp+=x[str(1) + \",\"+str(i)+\",\"+str(k)]*1\n",
    "        a = model.NewIntVar(0,1,\"a\")\n",
    "        model.AddMultiplicationEquality(a,[x[str(i) + \",\"+str(1)+\",\"+str(k)],x[str(1) + \",\"+str(i)+\",\"+str(k)]])\n",
    "        exp-=a*1\n",
    "        for j in range(2,n+1):\n",
    "            exp += x[str(i) + \",\"+str(j)+\",\"+str(k)]\n",
    "            exp += x[str(j) + \",\"+str(i)+\",\"+str(k)]\n",
    "            b = model.NewIntVar(0,1,\"b\")\n",
    "            model.AddMultiplicationEquality(a,[x[str(i) + \",\"+str(j)+\",\"+str(k)],x[str(j) + \",\"+str(i)+\",\"+str(k)]])\n",
    "            exp-= b*1\n",
    "        model.Add(exp == t[str(i)+\",\"+str(k)])"
   ]
  },
  {
   "cell_type": "code",
   "execution_count": 18,
   "metadata": {},
   "outputs": [],
   "source": [
    "for k in range(1,d+1):\n",
    "    exp = t[str(1)+\",\"+str(k)]*1\n",
    "    for i in range(2,n+1):\n",
    "        exp+= t[str(i)+\",\"+str(k)]\n",
    "    model.Add(exp - p[str(k)] <= 1)\n"
   ]
  },
  {
   "cell_type": "code",
   "execution_count": 19,
   "metadata": {},
   "outputs": [
    {
     "name": "stdout",
     "output_type": "stream",
     "text": [
      "38.0\n",
      "\n",
      "Statistics\n",
      "  status   : OPTIMAL\n",
      "  conflicts: 2\n",
      "  branches : 108482\n",
      "  wall time: 32.2779407 s\n"
     ]
    }
   ],
   "source": [
    "func = model.NewIntVar(0,1000,\"func\")\n",
    "for i in range(1,n+1):\n",
    "    for j in range(1,n+1):\n",
    "        for k in range(1,d+1):\n",
    "            func+= x[str(i) + \",\"+str(j)+\",\"+str(k)] * data['w'][i][j][k]\n",
    "model.Minimize(func)\n",
    "solver = cp_model.CpSolver()\n",
    "status = solver.Solve(model)\n",
    "if status == cp_model.OPTIMAL or status == cp_model.FEASIBLE:\n",
    "    print(solver.ObjectiveValue())\n",
    "\n",
    "print('\\nStatistics')\n",
    "print(f'  status   : {solver.StatusName(status)}')\n",
    "print(f'  conflicts: {solver.NumConflicts()}')\n",
    "print(f'  branches : {solver.NumBranches()}')\n",
    "print(f'  wall time: {solver.WallTime()} s')"
   ]
  }
 ],
 "metadata": {
  "kernelspec": {
   "display_name": "Python 3.9.12 ('python')",
   "language": "python",
   "name": "python3"
  },
  "language_info": {
   "codemirror_mode": {
    "name": "ipython",
    "version": 3
   },
   "file_extension": ".py",
   "mimetype": "text/x-python",
   "name": "python",
   "nbconvert_exporter": "python",
   "pygments_lexer": "ipython3",
   "version": "3.9.12"
  },
  "orig_nbformat": 4,
  "vscode": {
   "interpreter": {
    "hash": "8b755264e74d2c54d302155e7ba1426216751b8619e27e7d20d668d5785a6140"
   }
  }
 },
 "nbformat": 4,
 "nbformat_minor": 2
}
