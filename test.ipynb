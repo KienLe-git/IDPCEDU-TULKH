{
 "cells": [
  {
   "cell_type": "code",
   "execution_count": 10,
   "metadata": {},
   "outputs": [],
   "source": [
    "import os \n",
    "import numpy as np\n",
    "def suf(filepath):\n",
    "    with open(filepath,'r') as f:\n",
    "        a =f.readline()\n",
    "        b = f.readline()\n",
    "        data =f.readlines()\n",
    "    n = len(data)\n",
    "    mark =np.zeros(n)\n",
    "    open(filepath, 'w').close()\n",
    "    with open(filepath,'a') as f : \n",
    "        f.write(a)\n",
    "        f.write(b)\n",
    "        for i in range(n-1,0,-1):\n",
    "            f.write(data[i])\n",
    "        f.close()\n",
    "    "
   ]
  },
  {
   "cell_type": "code",
   "execution_count": 13,
   "metadata": {},
   "outputs": [],
   "source": [
    "path = \"MFEA_lib/tasks/Benchmark/__references__/IDPC_DU/IDPC_EDU/data/set1\"\n",
    "dir_list = os.listdir(path)\n",
    "for dir in dir_list:\n",
    "    fpath = path+ '/' + dir\n",
    "    suf(fpath)"
   ]
  }
 ],
 "metadata": {
  "kernelspec": {
   "display_name": "Python 3.9.12 ('python')",
   "language": "python",
   "name": "python3"
  },
  "language_info": {
   "codemirror_mode": {
    "name": "ipython",
    "version": 3
   },
   "file_extension": ".py",
   "mimetype": "text/x-python",
   "name": "python",
   "nbconvert_exporter": "python",
   "pygments_lexer": "ipython3",
   "version": "3.9.12"
  },
  "orig_nbformat": 4,
  "vscode": {
   "interpreter": {
    "hash": "8b755264e74d2c54d302155e7ba1426216751b8619e27e7d20d668d5785a6140"
   }
  }
 },
 "nbformat": 4,
 "nbformat_minor": 2
}
